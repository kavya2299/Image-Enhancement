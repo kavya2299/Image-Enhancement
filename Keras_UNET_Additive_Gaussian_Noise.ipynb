{
  "nbformat": 4,
  "nbformat_minor": 0,
  "metadata": {
    "colab": {
      "name": "Keras_UNET_Additive Gaussian Noise",
      "provenance": [],
      "collapsed_sections": [],
      "machine_shape": "hm",
      "include_colab_link": true
    },
    "kernelspec": {
      "name": "python3",
      "display_name": "Python 3"
    },
    "accelerator": "GPU"
  },
  "cells": [
    {
      "cell_type": "markdown",
      "metadata": {
        "id": "view-in-github",
        "colab_type": "text"
      },
      "source": [
        "<a href=\"https://colab.research.google.com/github/kavya2299/Image-Enhancement/blob/main/Keras_UNET_Additive_Gaussian_Noise.ipynb\" target=\"_parent\"><img src=\"https://colab.research.google.com/assets/colab-badge.svg\" alt=\"Open In Colab\"/></a>"
      ]
    },
    {
      "cell_type": "markdown",
      "metadata": {
        "id": "cBz-cs5POKDt"
      },
      "source": [
        "# Experiment description\n",
        "1. GAUSSIAN ADDITIVE NOISE SIGMA=1\n",
        "2. Keras framework\n",
        "\n",
        "# Dataset: \n",
        "The data is divided into a training set of 999 images and a test set of 335 images. The size of each 2D ultrasound image is 800 by 540 pixels with a pixel size ranging from 0.052 to 0.326 mm. The images are cropped to 480,736 for training purposes\n",
        "\n",
        "# Architecture used\n",
        "#### used denoising Oct UNet architecture\n",
        "paper link:\n",
        "https://drive.google.com/file/d/1laxdpyW0z9YUIL-heWSkYZGfCKpVdInr/view?usp=sharing\n",
        "\n",
        "# Parameters Used:\n",
        "  1. Optimizer: SGD\n",
        "  2. LR: 0.01(default for SGD)\n",
        "  3. No momentum nor adaptive LR\n",
        "  4. Loss: Bimary_crossentropy\n",
        "  5. 1019 images used for training(actual data set is 999 but I had faced some problem while organizing them so 20 images have been added redundantly, seeing it to be just20 images i didnt change it so i continued with the same dataset) and for validation 335 test images of HC18 dataset.\n",
        "  6. epochs=10\n",
        "  7. batch size=4\n",
        "  8. The same 1019 images were trained again and again on the network\n",
        "\n",
        "\n",
        "\n",
        "\n",
        "\n",
        "\n",
        "\n"
      ]
    },
    {
      "cell_type": "markdown",
      "metadata": {
        "id": "D0GiKGeSOxnD"
      },
      "source": [
        "# Mounting with google drive"
      ]
    },
    {
      "cell_type": "code",
      "metadata": {
        "id": "JleD8-p5feBB",
        "colab": {
          "base_uri": "https://localhost:8080/",
          "height": 121
        },
        "outputId": "8fa21ad9-3f78-4c11-ea56-45a50ce29a0f"
      },
      "source": [
        "from google.colab import drive \n",
        "drive.mount('/content/gdrive') "
      ],
      "execution_count": null,
      "outputs": [
        {
          "output_type": "stream",
          "text": [
            "Go to this URL in a browser: https://accounts.google.com/o/oauth2/auth?client_id=947318989803-6bn6qk8qdgf4n4g3pfee6491hc0brc4i.apps.googleusercontent.com&redirect_uri=urn%3aietf%3awg%3aoauth%3a2.0%3aoob&response_type=code&scope=email%20https%3a%2f%2fwww.googleapis.com%2fauth%2fdocs.test%20https%3a%2f%2fwww.googleapis.com%2fauth%2fdrive%20https%3a%2f%2fwww.googleapis.com%2fauth%2fdrive.photos.readonly%20https%3a%2f%2fwww.googleapis.com%2fauth%2fpeopleapi.readonly\n",
            "\n",
            "Enter your authorization code:\n",
            "··········\n",
            "Mounted at /content/gdrive\n"
          ],
          "name": "stdout"
        }
      ]
    },
    {
      "cell_type": "markdown",
      "metadata": {
        "id": "voOfIyITh8XK"
      },
      "source": [
        "# IMPORT PACKAGES"
      ]
    },
    {
      "cell_type": "code",
      "metadata": {
        "id": "PJoyI9JuhBnm"
      },
      "source": [
        "from os import environ\n",
        "environ['CUDA_VISIBLE_DEVICES'] = '0'\n",
        "import os\n",
        "from keras.preprocessing import image\n",
        "import matplotlib\n",
        "from PIL import Image\n",
        "from numpy import *\n",
        "from scipy import misc\n",
        "import matplotlib.image as mpimg\n",
        "import matplotlib.pyplot as plt\n",
        "from sklearn.model_selection import train_test_split\n",
        "import numpy as np\n",
        "from numpy import concatenate\n",
        "import random\n",
        "import keras.backend as K\n",
        "import cv2\n",
        "from scipy import signal\n",
        "\n",
        "from keras import layers\n",
        "from keras.layers import Input, Dense, Conv2D, MaxPooling2D, UpSampling2D, Conv2DTranspose, Activation, concatenate\n",
        "from keras.models import Model\n",
        "from keras.layers.normalization import BatchNormalization\n",
        "import tensorflow as tf\n",
        "\n",
        "import scipy.misc\n",
        "import os\n",
        "import errno\n",
        "\n",
        "from torchvision.transforms import ToPILImage\n",
        "from PIL import Image\n",
        "import imutils\n",
        "import cv2\n",
        "import numpy as np\n",
        "import glob\n",
        "import matplotlib.pyplot as plt\n",
        "import random\n",
        "\n",
        "import os\n",
        "import time\n",
        "\n",
        "## these are packages that we need to use to visualize the dataset \n",
        "import matplotlib.pyplot as plt\n",
        "from PIL import Image\n",
        "import numpy as np\n",
        "import pandas as pd\n",
        "\n",
        "## to make data augmentations\n",
        "from torchvision.transforms import ToPILImage\n",
        "from PIL import Image\n",
        "import imutils\n",
        "import cv2\n",
        "\n",
        "## these are basic python packages\n",
        "import math\n",
        "import random\n",
        "import csv\n",
        "\n",
        "## these are packages that are a part of Pytorch, the deep-learning library\n",
        "import torch\n",
        "import torchvision\n",
        "import torch.nn as nn\n",
        "import torch.nn.functional as TF\n",
        "import torch.optim as optim\n",
        "from torchvision import datasets, models, transforms\n",
        "from torch.utils.data import Dataset\n",
        "from torch.utils.data import DataLoader\n",
        "\n",
        "## these are a few metrics used to make quantitative comparisons\n",
        "from skimage.measure import compare_ssim\n",
        "from tabulate import tabulate\n",
        "\n",
        "#Change the text in experiment variable to store weigts \n",
        "from keras.callbacks import ModelCheckpoint\n",
        "from keras.callbacks import CSVLogger\n",
        "from keras.callbacks import LambdaCallback\n",
        "from keras.models import model_from_json\n",
        "\n",
        "#for Loading the model\n",
        "from keras.models import load_model"
      ],
      "execution_count": null,
      "outputs": []
    },
    {
      "cell_type": "markdown",
      "metadata": {
        "id": "fm-Gd15eiCKV"
      },
      "source": [
        "#Load dataset"
      ]
    },
    {
      "cell_type": "markdown",
      "metadata": {
        "id": "bGC7L6M9sgnQ"
      },
      "source": [
        "#load training images and save them as numpy files\n",
        "\n",
        "they are saved as numpy files just inorder to safe them, so if the notebook disconnects due to any issues we can just load the numpy files"
      ]
    },
    {
      "cell_type": "code",
      "metadata": {
        "id": "cg3cC27whDuF"
      },
      "source": [
        "train_data = []\n",
        "files = glob.glob (\"/content/gdrive/My Drive/Fetal_Imaging/training_set/*.png\")\n",
        "\n",
        "dim=(800,540) \n",
        "for myFile in files:\n",
        "    image = cv2.imread (myFile,0)\n",
        "    resized = cv2.resize(image, dim, interpolation = cv2.INTER_AREA)\n",
        "    train_data.append (resized)\n",
        "\n",
        "npfile =np.array(train_data)\n",
        "\n",
        "file=open('/content/gdrive/My Drive/orig.file','wb')\n",
        "file.write(npfile)\n",
        "file.close()"
      ],
      "execution_count": null,
      "outputs": []
    },
    {
      "cell_type": "markdown",
      "metadata": {
        "id": "Ed1stQwHO-BW"
      },
      "source": [
        "# load train numpy files"
      ]
    },
    {
      "cell_type": "code",
      "metadata": {
        "id": "LRlOAGuHyKve"
      },
      "source": [
        "file = open('/content/gdrive/My Drive/orig.file', 'rb')\n",
        "data = file.read() # The key will be type bytes\n",
        "file.close()\n",
        "decoded = np.frombuffer(data,dtype=\"uint8\")\n",
        "train_data=decoded.reshape((1019, 540, 800))"
      ],
      "execution_count": null,
      "outputs": []
    },
    {
      "cell_type": "markdown",
      "metadata": {
        "id": "S8es2grksi8i"
      },
      "source": [
        "#load test images  and save them as numpy files\n",
        "\n",
        "they are saved as numpy files just inorder to safe them, so if the notebook disconnects due to any issues we can just load the numpy files"
      ]
    },
    {
      "cell_type": "code",
      "metadata": {
        "id": "OJEfkaKIiiR8"
      },
      "source": [
        "test_data = []\n",
        "files = glob.glob (\"/content/gdrive/My Drive/Fetal_Imaging/test_set/*.png\")\n",
        "\n",
        "dim=(800,540) \n",
        "for myFile in files:\n",
        "    image = cv2.imread (myFile,0)\n",
        "    resized = cv2.resize(image, dim, interpolation = cv2.INTER_AREA)\n",
        "    test_data.append (resized)\n",
        "\n",
        "npfile =np.array(test_data)\n",
        "file=open('/content/gdrive/My Drive/test.file','wb')\n",
        "file.write(npfile)\n",
        "file.close()\n"
      ],
      "execution_count": null,
      "outputs": []
    },
    {
      "cell_type": "markdown",
      "metadata": {
        "id": "CJy54qQ2PfmY"
      },
      "source": [
        "# load test numpy files"
      ]
    },
    {
      "cell_type": "code",
      "metadata": {
        "id": "2MKx58MHu2_T"
      },
      "source": [
        "file = open('/content/gdrive/My Drive/test.file', 'rb')\n",
        "data = file.read() # The key will be type bytes\n",
        "file.close()\n",
        "decoded = np.frombuffer(data,dtype=\"uint8\")\n",
        "test_data=decoded.reshape((335, 540, 800))"
      ],
      "execution_count": null,
      "outputs": []
    },
    {
      "cell_type": "markdown",
      "metadata": {
        "id": "fKg-BooHsKCr"
      },
      "source": [
        "# Gaussian additive noise addition function"
      ]
    },
    {
      "cell_type": "code",
      "metadata": {
        "id": "MJKlY8ShsIkG"
      },
      "source": [
        "def gaussian_additive(x,l,h):#function to add speckle noise\n",
        "    \n",
        "    ax= np.copy(x)\n",
        "    shape=np.shape(ax)\n",
        "    intensity_noise = np.random.uniform(low=l, high=h)\n",
        "    ax = ax + intensity_noise*np.random.normal(loc=0, scale=1, size=shape[0]*shape[1]).reshape(shape[0],shape[1])\n",
        "    return ax"
      ],
      "execution_count": null,
      "outputs": []
    },
    {
      "cell_type": "markdown",
      "metadata": {
        "id": "F4IdgF_ZPtRq"
      },
      "source": [
        "# add speckle to the train_data"
      ]
    },
    {
      "cell_type": "code",
      "metadata": {
        "id": "lYctErXNPnce"
      },
      "source": [
        "train_data_noise = []\n",
        "for i in range(train_data.shape[0]):\n",
        "  new= gaussian_additive(train_data[i],15,20)\n",
        "  train_data_noise.append (new)\n",
        "  \n",
        "train_data_noise =np.array(train_data_noise)"
      ],
      "execution_count": null,
      "outputs": []
    },
    {
      "cell_type": "markdown",
      "metadata": {
        "id": "q3iq1jcyabmP"
      },
      "source": [
        "#add speckle to the test_data"
      ]
    },
    {
      "cell_type": "code",
      "metadata": {
        "id": "SnCC2apDaff7"
      },
      "source": [
        "test_data_noise = []\n",
        "for i in range(test_data.shape[0]):\n",
        "  new= gaussian_additive(test_data[i],15,20)\n",
        "  test_data_noise.append (new)\n",
        "  \n",
        "test_data_noise =np.array(test_data_noise)"
      ],
      "execution_count": null,
      "outputs": []
    },
    {
      "cell_type": "markdown",
      "metadata": {
        "id": "2-pok8trzlxp"
      },
      "source": [
        "#reshape the data"
      ]
    },
    {
      "cell_type": "code",
      "metadata": {
        "id": "JAN8G5tyzlLw"
      },
      "source": [
        "train_data=train_data.reshape((1019, 540, 800,1))\n",
        "test_data=test_data.reshape((335, 540, 800,1))\n",
        "train_data_noise=train_data_noise.reshape((1019, 540, 800,1))\n",
        "test_data_noise=test_data_noise.reshape((335, 540, 800,1))"
      ],
      "execution_count": null,
      "outputs": []
    },
    {
      "cell_type": "markdown",
      "metadata": {
        "id": "X7HUKpAiU5DH"
      },
      "source": [
        "#Pre declarations and variable initialization"
      ]
    },
    {
      "cell_type": "code",
      "metadata": {
        "id": "R4hy_eBuimki"
      },
      "source": [
        "img_rows, img_cols = 480,728\n",
        "side_crop, top_crop = 36, 30 #to make it divisible by 8 as to avoid dimension mismatch in this network\n",
        "channels = 1\n",
        "#num_samples = len(listing1) UPDATE ACCORDINGLY\n",
        "#idx = random.randint(0, num_samples) WHAT IS THIS"
      ],
      "execution_count": null,
      "outputs": []
    },
    {
      "cell_type": "markdown",
      "metadata": {
        "id": "uHapbva9WNlD"
      },
      "source": [
        "#Remove the borders to get the get the image size divisible bY UNET"
      ]
    },
    {
      "cell_type": "code",
      "metadata": {
        "id": "EULowDhUWSBD",
        "colab": {
          "base_uri": "https://localhost:8080/",
          "height": 84
        },
        "outputId": "b2b5d569-01f3-4727-dcbd-6e34ed175656"
      },
      "source": [
        "train_data= train_data[:,top_crop:top_crop+img_rows,side_crop:side_crop+img_cols,:]\n",
        "test_data = test_data[:,top_crop:top_crop+img_rows,side_crop:side_crop+img_cols,:]\n",
        "train_data_noise= train_data_noise[:,top_crop:top_crop+img_rows,side_crop:side_crop+img_cols,:]\n",
        "test_data_noise= test_data_noise[:,top_crop:top_crop+img_rows,side_crop:side_crop+img_cols,:]"
      ],
      "execution_count": null,
      "outputs": [
        {
          "output_type": "stream",
          "text": [
            "(1019, 480, 728, 1)\n",
            "(335, 480, 728, 1)\n",
            "(1019, 480, 728, 1)\n",
            "(335, 480, 728, 1)\n"
          ],
          "name": "stdout"
        }
      ]
    },
    {
      "cell_type": "markdown",
      "metadata": {
        "id": "HEzLRnDqP0Fq"
      },
      "source": [
        "# sanity check for new data set shapes"
      ]
    },
    {
      "cell_type": "code",
      "metadata": {
        "id": "Dw-6SekzP45T"
      },
      "source": [
        "print(train_data.shape)\n",
        "print(test_data.shape)\n",
        "print(train_data_noise.shape)\n",
        "print(test_data_noise.shape)"
      ],
      "execution_count": null,
      "outputs": []
    },
    {
      "cell_type": "markdown",
      "metadata": {
        "id": "e_4b2jglgZlN"
      },
      "source": [
        "# Normalize the Data"
      ]
    },
    {
      "cell_type": "code",
      "metadata": {
        "id": "gbnLb0v6WOlX"
      },
      "source": [
        "train_data = train_data/255.\n",
        "test_data = test_data/255.\n",
        "train_data_noise = train_data_noise/255.\n",
        "test_data_noise = test_data_noise/255.\n",
        "\n",
        "## Create copy of data\n",
        "x_clear = np.copy(train_data)\n",
        "x_noise = np.copy(train_data_noise)\n",
        "y_clear = np.copy(test_data)\n",
        "y_noise = np.copy(test_data_noise)"
      ],
      "execution_count": null,
      "outputs": []
    },
    {
      "cell_type": "markdown",
      "metadata": {
        "id": "69id3v9fK-hQ"
      },
      "source": [
        "#Architecture Defn"
      ]
    },
    {
      "cell_type": "markdown",
      "metadata": {
        "id": "qyyoOfg8T79P"
      },
      "source": [
        "#Standard and residual blocks"
      ]
    },
    {
      "cell_type": "code",
      "metadata": {
        "id": "xo8wJEUbLACT"
      },
      "source": [
        "## Defining the Standard and Residual Blocks\n",
        "\n",
        "\n",
        "def standard_blocks(layer_input, nb_filters, conv_size, dillatation, nb_blocks):\n",
        "    y = Conv2D(nb_filters, conv_size, dilation_rate = dillatation, padding='same')(layer_input)\n",
        "    #y = BatchNormalization()(y)\n",
        "    y = Activation('elu')(y)\n",
        "    for _ in range(nb_blocks-1):\n",
        "        y = Conv2D(nb_filters, conv_size, dilation_rate = dillatation, padding='same')(y)\n",
        "        #y = BatchNormalization()(y)\n",
        "        y = Activation('elu')(y) \n",
        "    return y\n",
        "\n",
        "def residual_blocks(layer_input, nb_filters, conv_size, dillatation, nb_blocks):\n",
        "    residual = Conv2D(nb_filters, (1, 1), padding='same', use_bias=False)(layer_input)\n",
        "    y = Conv2D(nb_filters, conv_size, dilation_rate = dillatation, padding='same')(layer_input)\n",
        "    y = BatchNormalization()(y)\n",
        "    y = Activation('elu')(y)\n",
        "    for _ in range(nb_blocks-1):\n",
        "        y = Conv2D(nb_filters, conv_size, dilation_rate = dillatation, padding='same')(y)\n",
        "        y = BatchNormalization()(y)\n",
        "        y = Activation('elu')(y) \n",
        "    y = layers.add([y, residual])\n",
        "    return y\n",
        "\n",
        "\n",
        "\n",
        "\n"
      ],
      "execution_count": null,
      "outputs": []
    },
    {
      "cell_type": "markdown",
      "metadata": {
        "id": "-5Gi-0hMTu7A"
      },
      "source": [
        "## Main U-Net Architecture\n",
        "\n"
      ]
    },
    {
      "cell_type": "code",
      "metadata": {
        "id": "88fZ-ShHTvLn"
      },
      "source": [
        "def basic_unet(crop_W, crop_H, nb_classes):\n",
        "    inputs = Input((crop_H, crop_W, 1))\n",
        "    \n",
        "    conv1 = standard_blocks(layer_input = inputs, nb_filters = 64, conv_size = (3,3), \n",
        "                                  dillatation = 1, nb_blocks=2)\n",
        "#     pool1 = MaxPooling2D(pool_size=(2, 2))(conv1)\n",
        "    conv_one_1 = Conv2D(64, (1, 1), strides=1, activation='elu', padding='same')(conv1)\n",
        "    \n",
        "    pool1 = Conv2D(64, (3, 3), strides=2, activation='elu', padding='same')(conv1)\n",
        "\n",
        "    conv2 = residual_blocks(layer_input = pool1, nb_filters = 64, conv_size = (3,3), \n",
        "                                  dillatation = 2, nb_blocks=2)\n",
        "    conv_one_2 = Conv2D(64, (1, 1), strides=1, activation='elu', padding='same')(conv2)\n",
        "    conv_one_2_up = Conv2DTranspose(64, 3, strides=2, padding='same')(conv_one_2)\n",
        "#     pool2 = MaxPooling2D(pool_size=(2, 2))(conv2)\n",
        "    \n",
        "    pool2 = Conv2D(64, (3, 3), strides=2, activation='elu', padding='same')(conv2)\n",
        "\n",
        "    conv3 = residual_blocks(layer_input = pool2, nb_filters = 64, conv_size = (3,3), \n",
        "                                  dillatation = 4, nb_blocks=2)\n",
        "    conv_one_3 = Conv2D(64, (1, 1), strides=1, activation='elu', padding='same')(conv3)\n",
        "    conv_one_3_up = Conv2DTranspose(64, 3, strides=4, padding='same')(conv_one_3)\n",
        "#     pool3 = MaxPooling2D(pool_size=(2, 2))(conv3)\n",
        "\n",
        "    pool3 = Conv2D(64, (3, 3), strides=2, activation='elu', padding='same')(conv3)\n",
        "\n",
        "    conv5 = standard_blocks(layer_input = pool3, nb_filters = 64, conv_size = (3,3), \n",
        "                                  dillatation = 4, nb_blocks=2)\n",
        "\n",
        "    up7 = concatenate([Conv2DTranspose(64, 3, strides=2, padding='same')(conv5), conv3], axis=3)\n",
        "\n",
        "    conv7 = residual_blocks(layer_input = up7, nb_filters = 64, conv_size = (3,3), \n",
        "                                  dillatation = 4, nb_blocks=2)\n",
        "    \n",
        "    up8 = concatenate([Conv2DTranspose(64, 3, strides=2, padding='same')(conv7), conv2], axis=3)\n",
        "\n",
        "    conv8 = residual_blocks(layer_input = up8, nb_filters = 64, conv_size = (3,3), \n",
        "                                  dillatation = 4, nb_blocks=2)\n",
        "    \n",
        "    up9 = concatenate([Conv2DTranspose(64, 3, strides=2, padding='same')(conv8), conv1], axis=3)\n",
        "\n",
        "    conv9 = standard_blocks(layer_input = up9, nb_filters = 64, conv_size = (3,3), \n",
        "                                  dillatation = 1, nb_blocks=2)\n",
        "    conv9_interm = concatenate([conv9, conv_one_1, conv_one_2_up, conv_one_3_up])\n",
        "    \n",
        "#     conv9_interm = concatenate([conv9, conv_one_3], axis = 3)\n",
        "    conv10 = Conv2D(1, (1, 1))(conv9_interm)\n",
        "    out = Activation('tanh') (conv10)\n",
        "    model = Model(inputs=[inputs], outputs=[out])\n",
        "\n",
        "    return model\n"
      ],
      "execution_count": null,
      "outputs": []
    },
    {
      "cell_type": "markdown",
      "metadata": {
        "id": "pl0BHcs0TqUm"
      },
      "source": [
        "## Compile the model and view the summary\n"
      ]
    },
    {
      "cell_type": "code",
      "metadata": {
        "id": "XqyRO3BQTqno"
      },
      "source": [
        "def create_basic_unet():\n",
        "    print('Compiling model...')\n",
        "    model = basic_unet(crop_W, crop_H, nb_classes)\n",
        "    model.compile(optimizer='SGD', loss='binary_crossentropy', metrics=['accuracy'])\n",
        "    print('Model compiled...')\n",
        "    return model"
      ],
      "execution_count": null,
      "outputs": []
    },
    {
      "cell_type": "markdown",
      "metadata": {
        "id": "L3pvhsjFTDmf"
      },
      "source": [
        "#CreateModel"
      ]
    },
    {
      "cell_type": "code",
      "metadata": {
        "id": "eYDT1jmbTCjr",
        "colab": {
          "base_uri": "https://localhost:8080/",
          "height": 1000
        },
        "outputId": "92004e74-6d35-4a7b-bb51-165821e2e256"
      },
      "source": [
        "crop_H, crop_W = img_rows,img_cols #the input shape of the input image\n",
        "nb_classes = 1 # number of classes\n",
        "model = create_basic_unet()\n",
        "model.summary()"
      ],
      "execution_count": null,
      "outputs": [
        {
          "output_type": "stream",
          "text": [
            "Compiling model...\n",
            "Model compiled...\n",
            "Model: \"model_1\"\n",
            "__________________________________________________________________________________________________\n",
            "Layer (type)                    Output Shape         Param #     Connected to                     \n",
            "==================================================================================================\n",
            "input_1 (InputLayer)            (None, 480, 728, 1)  0                                            \n",
            "__________________________________________________________________________________________________\n",
            "conv2d_1 (Conv2D)               (None, 480, 728, 64) 640         input_1[0][0]                    \n",
            "__________________________________________________________________________________________________\n",
            "activation_1 (Activation)       (None, 480, 728, 64) 0           conv2d_1[0][0]                   \n",
            "__________________________________________________________________________________________________\n",
            "conv2d_2 (Conv2D)               (None, 480, 728, 64) 36928       activation_1[0][0]               \n",
            "__________________________________________________________________________________________________\n",
            "activation_2 (Activation)       (None, 480, 728, 64) 0           conv2d_2[0][0]                   \n",
            "__________________________________________________________________________________________________\n",
            "conv2d_4 (Conv2D)               (None, 240, 364, 64) 36928       activation_2[0][0]               \n",
            "__________________________________________________________________________________________________\n",
            "conv2d_6 (Conv2D)               (None, 240, 364, 64) 36928       conv2d_4[0][0]                   \n",
            "__________________________________________________________________________________________________\n",
            "batch_normalization_1 (BatchNor (None, 240, 364, 64) 256         conv2d_6[0][0]                   \n",
            "__________________________________________________________________________________________________\n",
            "activation_3 (Activation)       (None, 240, 364, 64) 0           batch_normalization_1[0][0]      \n",
            "__________________________________________________________________________________________________\n",
            "conv2d_7 (Conv2D)               (None, 240, 364, 64) 36928       activation_3[0][0]               \n",
            "__________________________________________________________________________________________________\n",
            "batch_normalization_2 (BatchNor (None, 240, 364, 64) 256         conv2d_7[0][0]                   \n",
            "__________________________________________________________________________________________________\n",
            "activation_4 (Activation)       (None, 240, 364, 64) 0           batch_normalization_2[0][0]      \n",
            "__________________________________________________________________________________________________\n",
            "conv2d_5 (Conv2D)               (None, 240, 364, 64) 4096        conv2d_4[0][0]                   \n",
            "__________________________________________________________________________________________________\n",
            "add_1 (Add)                     (None, 240, 364, 64) 0           activation_4[0][0]               \n",
            "                                                                 conv2d_5[0][0]                   \n",
            "__________________________________________________________________________________________________\n",
            "conv2d_9 (Conv2D)               (None, 120, 182, 64) 36928       add_1[0][0]                      \n",
            "__________________________________________________________________________________________________\n",
            "conv2d_11 (Conv2D)              (None, 120, 182, 64) 36928       conv2d_9[0][0]                   \n",
            "__________________________________________________________________________________________________\n",
            "batch_normalization_3 (BatchNor (None, 120, 182, 64) 256         conv2d_11[0][0]                  \n",
            "__________________________________________________________________________________________________\n",
            "activation_5 (Activation)       (None, 120, 182, 64) 0           batch_normalization_3[0][0]      \n",
            "__________________________________________________________________________________________________\n",
            "conv2d_12 (Conv2D)              (None, 120, 182, 64) 36928       activation_5[0][0]               \n",
            "__________________________________________________________________________________________________\n",
            "batch_normalization_4 (BatchNor (None, 120, 182, 64) 256         conv2d_12[0][0]                  \n",
            "__________________________________________________________________________________________________\n",
            "activation_6 (Activation)       (None, 120, 182, 64) 0           batch_normalization_4[0][0]      \n",
            "__________________________________________________________________________________________________\n",
            "conv2d_10 (Conv2D)              (None, 120, 182, 64) 4096        conv2d_9[0][0]                   \n",
            "__________________________________________________________________________________________________\n",
            "add_2 (Add)                     (None, 120, 182, 64) 0           activation_6[0][0]               \n",
            "                                                                 conv2d_10[0][0]                  \n",
            "__________________________________________________________________________________________________\n",
            "conv2d_14 (Conv2D)              (None, 60, 91, 64)   36928       add_2[0][0]                      \n",
            "__________________________________________________________________________________________________\n",
            "conv2d_15 (Conv2D)              (None, 60, 91, 64)   36928       conv2d_14[0][0]                  \n",
            "__________________________________________________________________________________________________\n",
            "activation_7 (Activation)       (None, 60, 91, 64)   0           conv2d_15[0][0]                  \n",
            "__________________________________________________________________________________________________\n",
            "conv2d_16 (Conv2D)              (None, 60, 91, 64)   36928       activation_7[0][0]               \n",
            "__________________________________________________________________________________________________\n",
            "activation_8 (Activation)       (None, 60, 91, 64)   0           conv2d_16[0][0]                  \n",
            "__________________________________________________________________________________________________\n",
            "conv2d_transpose_3 (Conv2DTrans (None, 120, 182, 64) 36928       activation_8[0][0]               \n",
            "__________________________________________________________________________________________________\n",
            "concatenate_1 (Concatenate)     (None, 120, 182, 128 0           conv2d_transpose_3[0][0]         \n",
            "                                                                 add_2[0][0]                      \n",
            "__________________________________________________________________________________________________\n",
            "conv2d_18 (Conv2D)              (None, 120, 182, 64) 73792       concatenate_1[0][0]              \n",
            "__________________________________________________________________________________________________\n",
            "batch_normalization_5 (BatchNor (None, 120, 182, 64) 256         conv2d_18[0][0]                  \n",
            "__________________________________________________________________________________________________\n",
            "activation_9 (Activation)       (None, 120, 182, 64) 0           batch_normalization_5[0][0]      \n",
            "__________________________________________________________________________________________________\n",
            "conv2d_19 (Conv2D)              (None, 120, 182, 64) 36928       activation_9[0][0]               \n",
            "__________________________________________________________________________________________________\n",
            "batch_normalization_6 (BatchNor (None, 120, 182, 64) 256         conv2d_19[0][0]                  \n",
            "__________________________________________________________________________________________________\n",
            "activation_10 (Activation)      (None, 120, 182, 64) 0           batch_normalization_6[0][0]      \n",
            "__________________________________________________________________________________________________\n",
            "conv2d_17 (Conv2D)              (None, 120, 182, 64) 8192        concatenate_1[0][0]              \n",
            "__________________________________________________________________________________________________\n",
            "add_3 (Add)                     (None, 120, 182, 64) 0           activation_10[0][0]              \n",
            "                                                                 conv2d_17[0][0]                  \n",
            "__________________________________________________________________________________________________\n",
            "conv2d_transpose_4 (Conv2DTrans (None, 240, 364, 64) 36928       add_3[0][0]                      \n",
            "__________________________________________________________________________________________________\n",
            "concatenate_2 (Concatenate)     (None, 240, 364, 128 0           conv2d_transpose_4[0][0]         \n",
            "                                                                 add_1[0][0]                      \n",
            "__________________________________________________________________________________________________\n",
            "conv2d_21 (Conv2D)              (None, 240, 364, 64) 73792       concatenate_2[0][0]              \n",
            "__________________________________________________________________________________________________\n",
            "batch_normalization_7 (BatchNor (None, 240, 364, 64) 256         conv2d_21[0][0]                  \n",
            "__________________________________________________________________________________________________\n",
            "activation_11 (Activation)      (None, 240, 364, 64) 0           batch_normalization_7[0][0]      \n",
            "__________________________________________________________________________________________________\n",
            "conv2d_22 (Conv2D)              (None, 240, 364, 64) 36928       activation_11[0][0]              \n",
            "__________________________________________________________________________________________________\n",
            "batch_normalization_8 (BatchNor (None, 240, 364, 64) 256         conv2d_22[0][0]                  \n",
            "__________________________________________________________________________________________________\n",
            "activation_12 (Activation)      (None, 240, 364, 64) 0           batch_normalization_8[0][0]      \n",
            "__________________________________________________________________________________________________\n",
            "conv2d_20 (Conv2D)              (None, 240, 364, 64) 8192        concatenate_2[0][0]              \n",
            "__________________________________________________________________________________________________\n",
            "add_4 (Add)                     (None, 240, 364, 64) 0           activation_12[0][0]              \n",
            "                                                                 conv2d_20[0][0]                  \n",
            "__________________________________________________________________________________________________\n",
            "conv2d_transpose_5 (Conv2DTrans (None, 480, 728, 64) 36928       add_4[0][0]                      \n",
            "__________________________________________________________________________________________________\n",
            "concatenate_3 (Concatenate)     (None, 480, 728, 128 0           conv2d_transpose_5[0][0]         \n",
            "                                                                 activation_2[0][0]               \n",
            "__________________________________________________________________________________________________\n",
            "conv2d_23 (Conv2D)              (None, 480, 728, 64) 73792       concatenate_3[0][0]              \n",
            "__________________________________________________________________________________________________\n",
            "activation_13 (Activation)      (None, 480, 728, 64) 0           conv2d_23[0][0]                  \n",
            "__________________________________________________________________________________________________\n",
            "conv2d_24 (Conv2D)              (None, 480, 728, 64) 36928       activation_13[0][0]              \n",
            "__________________________________________________________________________________________________\n",
            "conv2d_8 (Conv2D)               (None, 240, 364, 64) 4160        add_1[0][0]                      \n",
            "__________________________________________________________________________________________________\n",
            "conv2d_13 (Conv2D)              (None, 120, 182, 64) 4160        add_2[0][0]                      \n",
            "__________________________________________________________________________________________________\n",
            "activation_14 (Activation)      (None, 480, 728, 64) 0           conv2d_24[0][0]                  \n",
            "__________________________________________________________________________________________________\n",
            "conv2d_3 (Conv2D)               (None, 480, 728, 64) 4160        activation_2[0][0]               \n",
            "__________________________________________________________________________________________________\n",
            "conv2d_transpose_1 (Conv2DTrans (None, 480, 728, 64) 36928       conv2d_8[0][0]                   \n",
            "__________________________________________________________________________________________________\n",
            "conv2d_transpose_2 (Conv2DTrans (None, 480, 728, 64) 36928       conv2d_13[0][0]                  \n",
            "__________________________________________________________________________________________________\n",
            "concatenate_4 (Concatenate)     (None, 480, 728, 256 0           activation_14[0][0]              \n",
            "                                                                 conv2d_3[0][0]                   \n",
            "                                                                 conv2d_transpose_1[0][0]         \n",
            "                                                                 conv2d_transpose_2[0][0]         \n",
            "__________________________________________________________________________________________________\n",
            "conv2d_25 (Conv2D)              (None, 480, 728, 1)  257         concatenate_4[0][0]              \n",
            "__________________________________________________________________________________________________\n",
            "activation_15 (Activation)      (None, 480, 728, 1)  0           conv2d_25[0][0]                  \n",
            "==================================================================================================\n",
            "Total params: 926,081\n",
            "Trainable params: 925,057\n",
            "Non-trainable params: 1,024\n",
            "__________________________________________________________________________________________________\n"
          ],
          "name": "stdout"
        }
      ]
    },
    {
      "cell_type": "markdown",
      "metadata": {
        "id": "38Wd2G5pQezX"
      },
      "source": [
        "# training settings"
      ]
    },
    {
      "cell_type": "code",
      "metadata": {
        "id": "796GWjR6UCL-"
      },
      "source": [
        "epochs = 10\n",
        "batch_size = 4"
      ],
      "execution_count": null,
      "outputs": []
    },
    {
      "cell_type": "markdown",
      "metadata": {
        "id": "8ZVxT-FyZmYF"
      },
      "source": [
        "#Training the model"
      ]
    },
    {
      "cell_type": "code",
      "metadata": {
        "id": "MudfbMdMcXm7",
        "colab": {
          "base_uri": "https://localhost:8080/",
          "height": 386
        },
        "outputId": "2a579354-de2e-403e-b2fe-5802e1b35cc5"
      },
      "source": [
        "model.fit(train_data_noise,train_data,\n",
        "                epochs=epochs,\n",
        "                batch_size=batch_size,\n",
        "                shuffle=True,\n",
        "                validation_data=(test_data_noise,test_data))"
      ],
      "execution_count": null,
      "outputs": [
        {
          "output_type": "stream",
          "text": [
            "Train on 1019 samples, validate on 335 samples\n",
            "Epoch 1/10\n",
            "1019/1019 [==============================] - 655s 642ms/step - loss: 0.0329 - accuracy: 0.1395 - val_loss: 0.0157 - val_accuracy: 0.1412\n",
            "Epoch 2/10\n",
            "1019/1019 [==============================] - 634s 622ms/step - loss: 0.0143 - accuracy: 0.1401 - val_loss: 0.0130 - val_accuracy: 0.1412\n",
            "Epoch 3/10\n",
            "1019/1019 [==============================] - 640s 628ms/step - loss: 0.0126 - accuracy: 0.1401 - val_loss: 0.0128 - val_accuracy: 0.1412\n",
            "Epoch 4/10\n",
            "1019/1019 [==============================] - 640s 628ms/step - loss: 0.0118 - accuracy: 0.1401 - val_loss: 0.0141 - val_accuracy: 0.1412\n",
            "Epoch 5/10\n",
            "1019/1019 [==============================] - 640s 628ms/step - loss: 0.0116 - accuracy: 0.1401 - val_loss: 0.0121 - val_accuracy: 0.1412\n",
            "Epoch 6/10\n",
            "1019/1019 [==============================] - 635s 623ms/step - loss: 0.0114 - accuracy: 0.1401 - val_loss: 0.0107 - val_accuracy: 0.1412\n",
            "Epoch 7/10\n",
            "1019/1019 [==============================] - 634s 623ms/step - loss: 0.0111 - accuracy: 0.1401 - val_loss: 0.0115 - val_accuracy: 0.1412\n",
            "Epoch 8/10\n",
            "1019/1019 [==============================] - 634s 622ms/step - loss: 0.0109 - accuracy: 0.1401 - val_loss: 0.0102 - val_accuracy: 0.1412\n",
            "Epoch 9/10\n",
            "1019/1019 [==============================] - 636s 624ms/step - loss: 0.0105 - accuracy: 0.1401 - val_loss: 0.0103 - val_accuracy: 0.1412\n",
            "Epoch 10/10\n",
            "1019/1019 [==============================] - 635s 623ms/step - loss: 0.0106 - accuracy: 0.1401 - val_loss: 0.0102 - val_accuracy: 0.1412\n"
          ],
          "name": "stdout"
        },
        {
          "output_type": "execute_result",
          "data": {
            "text/plain": [
              "<keras.callbacks.callbacks.History at 0x7f59d7d25898>"
            ]
          },
          "metadata": {
            "tags": []
          },
          "execution_count": 37
        }
      ]
    },
    {
      "cell_type": "markdown",
      "metadata": {
        "id": "4QDYVL6GQoni"
      },
      "source": [
        "# save the model"
      ]
    },
    {
      "cell_type": "code",
      "metadata": {
        "id": "wS2PF04x4iOp"
      },
      "source": [
        "model.save('/content/gdrive/My Drive/(K)_(denoisingoct)UNET_G additive sigma=1_1.h5')"
      ],
      "execution_count": null,
      "outputs": []
    },
    {
      "cell_type": "markdown",
      "metadata": {
        "id": "1vejpvqTQt06"
      },
      "source": [
        "#load the saved model"
      ]
    },
    {
      "cell_type": "code",
      "metadata": {
        "id": "zSWThKDs400D"
      },
      "source": [
        "new_model= load_model('/content/gdrive/My Drive/(K)_(denoisingoct)UNET_G additive sigma=1_1.h5')"
      ],
      "execution_count": null,
      "outputs": []
    },
    {
      "cell_type": "markdown",
      "metadata": {
        "id": "kv5YPJcQRHi6"
      },
      "source": [
        "# prediction"
      ]
    },
    {
      "cell_type": "code",
      "metadata": {
        "id": "5kCEtL3XdAPh"
      },
      "source": [
        "prediction = new_model.predict(test_data, batch_size=5)"
      ],
      "execution_count": null,
      "outputs": []
    },
    {
      "cell_type": "markdown",
      "metadata": {
        "id": "mkiKXMxQRMLv"
      },
      "source": [
        "# Result check"
      ]
    },
    {
      "cell_type": "code",
      "metadata": {
        "id": "ESnBLF-p5HTM",
        "colab": {
          "base_uri": "https://localhost:8080/",
          "height": 194
        },
        "outputId": "b2c01e17-0530-46bd-d0e2-742e0e838e20"
      },
      "source": [
        "i=10\n",
        "x =prediction[i].reshape(480,728)\n",
        "y= test_data[i].reshape(480,728)\n",
        "z= test_data_noise[i].reshape(480,728)\n",
        "#plt.imshow(x,cmap='gray')\n",
        "plt.figure(figsize=(10,10))\n",
        "\n",
        "plt.subplot(1,3,1)\n",
        "plt.title(\"noise added image\",fontweight='bold',size =20)\n",
        "plt.imshow(z,cmap = 'gray')\n",
        "\n",
        "plt.subplot(1,3,2)\n",
        "plt.title(\"actual image\",fontweight='bold',size =20)\n",
        "plt.imshow(y,cmap = 'gray')\n",
        "\n",
        "plt.subplot(1,3,3)\n",
        "plt.title(\"output of Unet\",fontweight='bold',size =20)\n",
        "plt.imshow(x,cmap = 'gray')"
      ],
      "execution_count": null,
      "outputs": [
        {
          "output_type": "execute_result",
          "data": {
            "text/plain": [
              "<matplotlib.image.AxesImage at 0x7f2055f66c18>"
            ]
          },
          "metadata": {
            "tags": []
          },
          "execution_count": 34
        },
        {
          "output_type": "display_data",
          "data": {
            "image/png": "[encoded data removed]",
            "text/plain": [
              "<Figure size 720x720 with 3 Axes>"
            ]
          },
          "metadata": {
            "tags": [],
            "needs_background": "light"
          }
        }
      ]
    }
  ]
}